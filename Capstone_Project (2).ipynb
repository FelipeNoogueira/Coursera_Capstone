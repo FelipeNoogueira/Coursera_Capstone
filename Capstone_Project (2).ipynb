{
 "cells": [
  {
   "cell_type": "markdown",
   "metadata": {},
   "source": [
    "<h1><strong><div align=\"center\">Clustering Belo Horizonte's Neighborhoods<br>by Popularity of Cuisine Category<\\div><\\strong><\\h1>"
   ]
  },
  {
   "cell_type": "markdown",
   "metadata": {},
   "source": [
    "<h5><strong><div align=\"right\">Felipe Resende Nogueira | IBM Data Science Professional Certificate Capstone Project | 05/2020<\\div><strong><h5>"
   ]
  },
  {
   "cell_type": "markdown",
   "metadata": {},
   "source": [
    "### **Introduction:**"
   ]
  },
  {
   "cell_type": "markdown",
   "metadata": {},
   "source": [
    "Opening a food establishment requires great investment of both time and money, specially in Brazil, which is famous for its long bureaucratic processes for registering a new business. Therefore, it is prudent and expected of any entrepreneur to study its market and to search for its best opportunities before making a decision. This report was developed specially for providing starting entrepreneurs from Belo Horizonte with a reliable and data-driven segmentation of the city neighborhoods in groups formed by similar representativeness of cuisine categories among its food venues. This analysis is meant to deliver insights on where a particular type of food establishment would have greater chances of acceptance by the public, and also to reveal neighborhoods with untapped potential for particular cuisines.  "
   ]
  },
  {
   "cell_type": "markdown",
   "metadata": {},
   "source": [
    "### **Data Requirements:**"
   ]
  },
  {
   "cell_type": "markdown",
   "metadata": {},
   "source": [
    "In order to successfully complete the analysis, data from two different sources will be collected:  \n",
    "* A list with the names of all Belo Horizonte's neighborhoods with their latitude and longitude values;\n",
    "* A list with venues' names, categories, latitude and longitude within a determined radius for each neighborhood.  "
   ]
  },
  {
   "cell_type": "markdown",
   "metadata": {},
   "source": [
    "The first item will be obtained by parsing a Wikipedia HTML code, which contains a table with neighborhoods' names. Afterwards, geopy.geocoder module in Python will be used to get each neighborhood's coordinates using their names. These coordinates will be used to make Foursquare requests that will search for food venues within a specified radius for each neighborhood. Finally, all the data will be gathered in a Pandas dataframe and be ready for manipulation and further analysis. "
   ]
  }
 ],
 "metadata": {
  "kernelspec": {
   "display_name": "Python",
   "language": "python",
   "name": "conda-env-python-py"
  },
  "language_info": {
   "codemirror_mode": {
    "name": "ipython",
    "version": 3
   },
   "file_extension": ".py",
   "mimetype": "text/x-python",
   "name": "python",
   "nbconvert_exporter": "python",
   "pygments_lexer": "ipython3",
   "version": "3.6.10"
  }
 },
 "nbformat": 4,
 "nbformat_minor": 4
}
